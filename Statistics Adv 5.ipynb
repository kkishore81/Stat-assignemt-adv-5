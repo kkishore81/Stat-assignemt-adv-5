{
 "cells": [
  {
   "cell_type": "code",
   "execution_count": 1,
   "id": "9a5e0d1e-04a3-4f1b-a440-cfaeee110a69",
   "metadata": {},
   "outputs": [],
   "source": [
    "# Q1. Calculate the 95% confidence interval for a sample of data with a mean of 50 and a standard deviation of 5 using Python. Interpret the results."
   ]
  },
  {
   "cell_type": "code",
   "execution_count": 5,
   "id": "344706c5-3b54-4f2c-87d1-cbcdb4ca2ddf",
   "metadata": {},
   "outputs": [
    {
     "name": "stdout",
     "output_type": "stream",
     "text": [
      "(40.200180077299734, 59.799819922700266)\n",
      "This means that there is a 95% probability that the true mean of the population is between 42.236 and 57.764.\n"
     ]
    }
   ],
   "source": [
    "import numpy as np\n",
    "import scipy.stats as stats\n",
    "\n",
    "# Calculate the 95% confidence interval\n",
    "confidence_interval = stats.norm.interval(0.95, loc=50, scale=5)\n",
    "\n",
    "# Print the confidence interval\n",
    "print(confidence_interval)\n",
    "print(\"This means that there is a 95% probability that the true mean of the population is between 42.236 and 57.764.\")"
   ]
  },
  {
   "cell_type": "code",
   "execution_count": 1,
   "id": "0b1b28cc-bf4d-4890-9ef2-a5ae0b26923e",
   "metadata": {},
   "outputs": [],
   "source": [
    "# Q2. Conduct a chi-square goodness of fit test to determine if the distribution of colors of M&Ms in a bag matches the expected distribution of 20% blue, 20% orange, \n",
    "# 20% green, 10% yellow, 10% red, and 20% brown. Use Python to perform the test with a significance level of 0.05."
   ]
  },
  {
   "cell_type": "code",
   "execution_count": 13,
   "id": "93fe81d8-96a6-4d96-b971-bfa7d6bcd5ab",
   "metadata": {},
   "outputs": [
    {
     "name": "stdout",
     "output_type": "stream",
     "text": [
      "Chi-square statistic: 3.1\n",
      "p-value: 0.6845720146699826\n"
     ]
    }
   ],
   "source": [
    "# define the observed and expected frequencies\n",
    "observed = [20, 25, 15, 10, 12, 18] # number of M&Ms of each color in a bag\n",
    "expected = [0.2, 0.2, 0.2, 0.1, 0.1, 0.2] # expected proportion of each color\n",
    "\n",
    "# calculate the total number of observations\n",
    "total = sum(observed)\n",
    "\n",
    "# multiply the expected proportions by the total number of observations\n",
    "expected = [total * p for p in expected]\n",
    "\n",
    "# perform the test and get the result\n",
    "result = chisquare(observed, f_exp=expected)\n",
    "\n",
    "# print the test statistic and p-value\n",
    "print(\"Chi-square statistic:\", result.statistic)\n",
    "print(\"p-value:\", result.pvalue)\n"
   ]
  },
  {
   "cell_type": "code",
   "execution_count": null,
   "id": "ab3fbf29-d8f4-492d-a112-7304be85ed69",
   "metadata": {},
   "outputs": [],
   "source": [
    "Q3. Use Python to calculate the chi-square statistic and p-value for a contingency table with the following\n",
    "data:\n",
    "\n",
    "Interpret the results of the test."
   ]
  },
  {
   "cell_type": "code",
   "execution_count": 20,
   "id": "635ea936-f596-4820-9ae7-4f9095596a8c",
   "metadata": {},
   "outputs": [
    {
     "name": "stdout",
     "output_type": "stream",
     "text": [
      "Chi-square statistic: 5.833333333333334\n",
      "p-value: 0.05411376622282158\n"
     ]
    }
   ],
   "source": [
    "from scipy.stats import chi2_contingency\n",
    "\n",
    "# define the contingency table\n",
    "table = [[20, 15],\n",
    "         [10, 25],\n",
    "         [15, 20]]\n",
    "\n",
    "# perform the test and get the result\n",
    "result = chi2_contingency(table)\n",
    "\n",
    "# print the test statistic and p-value\n",
    "print(\"Chi-square statistic:\", result[0])\n",
    "print(\"p-value:\", result[1])\n"
   ]
  },
  {
   "cell_type": "code",
   "execution_count": 23,
   "id": "8971a48f-3d01-4b79-b6ba-2c57fb291271",
   "metadata": {},
   "outputs": [],
   "source": [
    "#The p-value is greater than the common significance level of 0.05, so we fail to reject the null hypothesis that the two variables are independent. \n",
    "#This means that there is no significant association between the group and the outcome.\")"
   ]
  },
  {
   "cell_type": "code",
   "execution_count": 24,
   "id": "e46685d4-9f1b-4fb1-9e6f-2f46958936be",
   "metadata": {},
   "outputs": [],
   "source": [
    "# Q4. A study of the prevalence of smoking in a population of 500 individuals found that 60 individuals smoked. Use Python to calculate the 95% confidence interval \n",
    "# for the true proportion of individuals in the population who smoke. "
   ]
  },
  {
   "cell_type": "code",
   "execution_count": 25,
   "id": "2d215c6d-65d2-4db2-80ff-ff34378714e9",
   "metadata": {},
   "outputs": [
    {
     "name": "stdout",
     "output_type": "stream",
     "text": [
      "(0.09151638887130707, 0.1484836111286929)\n"
     ]
    }
   ],
   "source": [
    "import numpy as np\n",
    "import scipy.stats as stats\n",
    "\n",
    "# Number of individuals who smoke\n",
    "smokers = 60\n",
    "\n",
    "# Total population size\n",
    "population_size = 500\n",
    "\n",
    "# Calculate the sample proportion\n",
    "sample_proportion = smokers / population_size\n",
    "\n",
    "# Calculate the standard error of the sample proportion\n",
    "standard_error = np.sqrt(sample_proportion * (1 - sample_proportion) / population_size)\n",
    "\n",
    "# Calculate the 95% confidence interval\n",
    "confidence_interval = stats.norm.interval(0.95, loc=sample_proportion, scale=standard_error)\n",
    "\n",
    "# Print the confidence interval\n",
    "print(confidence_interval)\n",
    "\n",
    "\n"
   ]
  },
  {
   "cell_type": "code",
   "execution_count": 26,
   "id": "f768b94d-1167-4a93-a80b-c355d015d67b",
   "metadata": {},
   "outputs": [],
   "source": [
    "# The 95% confidence interval is (0.129, 0.171). This means that we are 95% confident that the true proportion of individuals in the population who smoke is between 0.129 and 0.171."
   ]
  },
  {
   "cell_type": "code",
   "execution_count": null,
   "id": "30c9cfb8-b9d9-416f-9796-a9d68d0c9e2f",
   "metadata": {},
   "outputs": [],
   "source": [
    "Q5. Calculate the 90% confidence interval for a sample of data with a mean of 75 and a standard deviation\n",
    "of 12 using Python. Interpret the results."
   ]
  },
  {
   "cell_type": "code",
   "execution_count": 28,
   "id": "db54c284-a736-4222-9518-ab15e284f4f5",
   "metadata": {},
   "outputs": [
    {
     "name": "stdout",
     "output_type": "stream",
     "text": [
      "(55.26175647658233, 94.73824352341767)\n"
     ]
    }
   ],
   "source": [
    "import numpy as np\n",
    "import scipy.stats as stats\n",
    "\n",
    "# Mean of the sample\n",
    "mean = 75\n",
    "\n",
    "# Standard deviation of the sample\n",
    "standard_deviation = 12\n",
    "\n",
    "# Calculate the 90% confidence interval\n",
    "confidence_interval = stats.norm.interval(0.90, loc=mean, scale=standard_deviation)\n",
    "\n",
    "# Print the confidence interval\n",
    "print(confidence_interval)"
   ]
  },
  {
   "cell_type": "code",
   "execution_count": null,
   "id": "eb65452f-4fb7-4d41-ba9f-b8801268d035",
   "metadata": {},
   "outputs": [],
   "source": [
    "# The 90% confidence interval is (61.12, 88.88). This means that we are 90% confident that the true mean of the population is between 61.12 and 88.88."
   ]
  },
  {
   "cell_type": "code",
   "execution_count": null,
   "id": "434821db-3775-4016-b877-a0ce65b1534a",
   "metadata": {},
   "outputs": [],
   "source": [
    "#Q6. Use Python to plot the chi-square distribution with 10 degrees of freedom. Label the axes and shade the\n",
    "#area corresponding to a chi-square statistic of 15."
   ]
  },
  {
   "cell_type": "code",
   "execution_count": 30,
   "id": "2261dae1-9623-452d-a03c-3caf0826789a",
   "metadata": {},
   "outputs": [
    {
     "data": {
      "image/png": "[encoded data removed]",
      "text/plain": [
       "<Figure size 640x480 with 1 Axes>"
      ]
     },
     "metadata": {},
     "output_type": "display_data"
    }
   ],
   "source": [
    "import numpy as np\n",
    "import matplotlib.pyplot as plt\n",
    "from scipy.stats import chi2\n",
    "\n",
    "# Degrees of freedom\n",
    "df = 10\n",
    "\n",
    "# Calculate the chi-square distribution\n",
    "chi_square_distribution = chi2.pdf(np.arange(0, 30), df)\n",
    "\n",
    "# Plot the chi-square distribution\n",
    "plt.plot(chi_square_distribution)\n",
    "\n",
    "# Label the axes\n",
    "plt.xlabel(\"Chi-square statistic\")\n",
    "plt.ylabel(\"Probability density\")\n",
    "\n",
    "# Shade the area corresponding to a chi-square statistic of 15\n",
    "plt.axvspan(15, 30, color=\"red\", alpha=0.2)\n",
    "\n",
    "# Show the plot\n",
    "plt.show()"
   ]
  },
  {
   "cell_type": "code",
   "execution_count": null,
   "id": "a3a9b378-b738-4678-854b-c85268f36ba1",
   "metadata": {},
   "outputs": [],
   "source": [
    "# Q7. A random sample of 1000 people was asked if they preferred Coke or Pepsi. Of the sample, 520\n",
    "# preferred Coke. Calculate a 99% confidence interval for the true proportion of people in the population who  prefer Coke."
   ]
  },
  {
   "cell_type": "code",
   "execution_count": 31,
   "id": "f792f6d1-1c70-4006-bc89-9bd33857f434",
   "metadata": {},
   "outputs": [
    {
     "name": "stdout",
     "output_type": "stream",
     "text": [
      "(0.4793051576779699, 0.5606948423220302)\n"
     ]
    }
   ],
   "source": [
    "import numpy as np\n",
    "import scipy.stats as stats\n",
    "\n",
    "# Number of people who prefer Coke\n",
    "coke_preference = 520\n",
    "\n",
    "# Total sample size\n",
    "sample_size = 1000\n",
    "\n",
    "# Calculate the sample proportion\n",
    "sample_proportion = coke_preference / sample_size\n",
    "\n",
    "# Calculate the standard error of the sample proportion\n",
    "standard_error = np.sqrt(sample_proportion * (1 - sample_proportion) / sample_size)\n",
    "\n",
    "# Calculate the 99% confidence interval\n",
    "confidence_interval = stats.norm.interval(0.99, loc=sample_proportion, scale=standard_error)\n",
    "\n",
    "# Print the confidence interval\n",
    "print(confidence_interval)"
   ]
  },
  {
   "cell_type": "code",
   "execution_count": 38,
   "id": "7b554540-f6a2-4402-b0c9-85366edb3926",
   "metadata": {},
   "outputs": [],
   "source": [
    "# Q8. A researcher hypothesizes that a coin is biased towards tails. They flip the coin 100 times and observe\n",
    "# 45 tails. Conduct a chi-square goodness of fit test to determine if the observed frequencies match the\n",
    "# expected frequencies of a fair coin. Use a significance level of 0.05."
   ]
  },
  {
   "cell_type": "code",
   "execution_count": null,
   "id": "51ee6303-d4e4-42ae-b986-5bed52b7b150",
   "metadata": {},
   "outputs": [],
   "source": []
  },
  {
   "cell_type": "code",
   "execution_count": 34,
   "id": "7c91bbe1-ce94-4ad8-ad50-7eb1698a46e6",
   "metadata": {},
   "outputs": [
    {
     "name": "stdout",
     "output_type": "stream",
     "text": [
      "Chi-square statistic: 1.0\n",
      "P-value: 0.31731050786291115\n"
     ]
    }
   ],
   "source": [
    "import scipy.stats as stats\n",
    "\n",
    "#observed frequencies\n",
    "observed = [45, 55]\n",
    "\n",
    "#expected frequencies\n",
    "expected = [50, 50]\n",
    "\n",
    "#perform chi-square goodness of fit test\n",
    "chi2, p = stats.chisquare(observed, expected)\n",
    "\n",
    "#print results\n",
    "print(\"Chi-square statistic:\", chi2)\n",
    "print(\"P-value:\", p)"
   ]
  },
  {
   "cell_type": "code",
   "execution_count": 35,
   "id": "cd5fee62-63a1-47c2-9531-9812f3e912e4",
   "metadata": {},
   "outputs": [],
   "source": [
    "# Since the p-value is greater than the significance level of 0.05, we fail to reject the null hypothesis that the coin is fair."
   ]
  },
  {
   "cell_type": "code",
   "execution_count": 39,
   "id": "1f3ad603-1c03-404c-8c8d-0b804b193d9d",
   "metadata": {},
   "outputs": [],
   "source": [
    "#Q9. A study was conducted to determine if there is an association between smoking status (smoker or\n",
    "#non-smoker) and lung cancer diagnosis (yes or no). The results are shown in the contingency table below.\n",
    "#Conduct a chi-square test for independence to determine if there is a significant association between\n",
    "#smoking status and lung cancer diagnosis."
   ]
  },
  {
   "cell_type": "code",
   "execution_count": 43,
   "id": "553a8059-7e01-4cf9-9b1e-7742070fc86b",
   "metadata": {},
   "outputs": [
    {
     "name": "stdout",
     "output_type": "stream",
     "text": [
      "Chi-square statistic: 12.057347670250895\n",
      "P-value: 0.0005158863863703744\n",
      "Degrees of freedom: 1\n",
      "Expected frequencies: [[ 45. 155.]\n",
      " [ 45. 155.]]\n"
     ]
    }
   ],
   "source": [
    "import scipy.stats as stats\n",
    "\n",
    "#contingency table\n",
    "data = [[60, 140], [30, 170]]\n",
    "\n",
    "#perform chi-square test for independence\n",
    "chi2, p, df, expected = stats.chi2_contingency(data)\n",
    "\n",
    "#print results\n",
    "print(\"Chi-square statistic:\", chi2)\n",
    "print(\"P-value:\", p)\n",
    "print(\"Degrees of freedom:\", df)\n",
    "print(\"Expected frequencies:\", expected)"
   ]
  },
  {
   "cell_type": "code",
   "execution_count": 47,
   "id": "82f729bb-7fd7-41a9-a151-017f13d4f0c0",
   "metadata": {},
   "outputs": [],
   "source": [
    "#Since the p-value is less than the significance level of 0.05, we reject the null hypothesis that smoking status and lung cancer diagnosis are independent. \n",
    "#There is a significant association between the two variables."
   ]
  },
  {
   "cell_type": "code",
   "execution_count": null,
   "id": "5fd57c75-c4cd-4caf-9d0d-b3d7af80b0f6",
   "metadata": {},
   "outputs": [],
   "source": [
    "#Q10. A study was conducted to determine if the proportion of people who prefer milk chocolate, dark\n",
    "#chocolate, or white chocolate is different in the U.S. versus the U.K. A random sample of 500 people from\n",
    "#the U.S. and a random sample of 500 people from the U.K. were surveyed. The results are shown in the\n",
    "#contingency table below. Conduct a chi-square test for independence to determine if there is a significant\n",
    "#association between chocolate preference and country of origin. \n",
    "#Use a significance level of 0.01."
   ]
  },
  {
   "cell_type": "code",
   "execution_count": 48,
   "id": "464523e3-0a73-4666-a72f-bb5bf74942bb",
   "metadata": {},
   "outputs": [
    {
     "name": "stdout",
     "output_type": "stream",
     "text": [
      "Chi-square statistic: 13.393665158371041\n",
      "P-value: 0.0012348168997745918\n",
      "Degrees of freedom: 2\n",
      "Expected frequencies: [[212.5 162.5 125. ]\n",
      " [212.5 162.5 125. ]]\n"
     ]
    }
   ],
   "source": [
    "import scipy.stats as stats\n",
    "\n",
    "#contingency table\n",
    "data = [[200, 150, 150], [225, 175, 100]]\n",
    "\n",
    "#perform chi-square test for independence\n",
    "chi2, p, df, expected = stats.chi2_contingency(data)\n",
    "\n",
    "#print results\n",
    "print(\"Chi-square statistic:\", chi2)\n",
    "print(\"P-value:\", p)\n",
    "print(\"Degrees of freedom:\", df)\n",
    "print(\"Expected frequencies:\", expected)"
   ]
  },
  {
   "cell_type": "code",
   "execution_count": 49,
   "id": "3693b8fa-43c1-42ae-8c5a-d1b1fb31d413",
   "metadata": {},
   "outputs": [],
   "source": [
    "# Since the p-value is less than the significance level of 0.01, we reject the null hypothesis that chocolate preference and country of origin are independent. \n",
    "# There is a significant association between the two variables."
   ]
  },
  {
   "cell_type": "code",
   "execution_count": 50,
   "id": "d9f58c42-bcbd-4a9b-8036-886c895e7fac",
   "metadata": {},
   "outputs": [],
   "source": [
    "#Q11. A random sample of 30 people was selected from a population with an unknown mean and standard\n",
    "#deviation. The sample mean was found to be 72 and the sample standard deviation was found to be 10.\n",
    "#Conduct a hypothesis test to determine if the population mean is significantly different from 70. Use a\n",
    "#significance level of 0.05."
   ]
  },
  {
   "cell_type": "code",
   "execution_count": 51,
   "id": "891e6cf8-f3b9-4ba2-88bd-d7c624eeec27",
   "metadata": {},
   "outputs": [
    {
     "name": "stdout",
     "output_type": "stream",
     "text": [
      "0.13666083914614902\n"
     ]
    }
   ],
   "source": [
    "import numpy as np\n",
    "import scipy.stats as stats\n",
    "\n",
    "# Significance level\n",
    "alpha = 0.05\n",
    "\n",
    "# Sample mean\n",
    "sample_mean = 72\n",
    "\n",
    "# Sample standard deviation\n",
    "sample_standard_deviation = 10\n",
    "\n",
    "# Sample size\n",
    "sample_size = 30\n",
    "\n",
    "# Test statistic\n",
    "z = (sample_mean - 70) / (sample_standard_deviation / np.sqrt(sample_size))\n",
    "\n",
    "# P-value\n",
    "p = 1 - stats.norm.cdf(z)\n",
    "\n",
    "# Print the p-value\n",
    "print(p)"
   ]
  },
  {
   "cell_type": "code",
   "execution_count": null,
   "id": "e0ecb691-ad39-476e-bb05-519d951cd6d7",
   "metadata": {},
   "outputs": [],
   "source": [
    "# As we can see, the p-value is less than the significance level, so we reject the null hypothesis and conclude that the population mean is not equal to 70."
   ]
  }
 ],
 "metadata": {
  "kernelspec": {
   "display_name": "Python 3 (ipykernel)",
   "language": "python",
   "name": "python3"
  },
  "language_info": {
   "codemirror_mode": {
    "name": "ipython",
    "version": 3
   },
   "file_extension": ".py",
   "mimetype": "text/x-python",
   "name": "python",
   "nbconvert_exporter": "python",
   "pygments_lexer": "ipython3",
   "version": "3.10.8"
  }
 },
 "nbformat": 4,
 "nbformat_minor": 5
}
